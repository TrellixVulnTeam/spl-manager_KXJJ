{
 "cells": [
  {
   "cell_type": "code",
   "execution_count": 1,
   "metadata": {},
   "outputs": [],
   "source": [
    "from spl.__main__ import SplManager\n",
    "from spl.sync_manager import SyncManager\n",
    "spl = SplManager(src=\"nxtp-onprem\", dest=\"localhost\", interactive=False)"
   ]
  },
  {
   "cell_type": "code",
   "execution_count": 2,
   "metadata": {},
   "outputs": [],
   "source": [
    "src = spl._src\n",
    "dest = spl._dest\n",
    "\n",
    "sync_mg = SyncManager(spl, src, dest)"
   ]
  },
  {
   "cell_type": "code",
   "execution_count": 3,
   "metadata": {},
   "outputs": [
    {
     "data": {
      "text/html": [
       "<pre style=\"white-space:pre;overflow-x:auto;line-height:normal;font-family:Menlo,'DejaVu Sans Mono',consolas,'Courier New',monospace\"><span style=\"font-weight: bold\">{</span>\n",
       "    <span style=\"color: #008000; text-decoration-color: #008000\">'dictionary_item_removed'</span>: <span style=\"font-weight: bold\">[</span>root<span style=\"font-weight: bold\">[</span><span style=\"color: #008000; text-decoration-color: #008000\">'analytics'</span><span style=\"font-weight: bold\">]</span>, root<span style=\"font-weight: bold\">[</span><span style=\"color: #008000; text-decoration-color: #008000\">'max'</span><span style=\"font-weight: bold\">]]</span>,\n",
       "    <span style=\"color: #008000; text-decoration-color: #008000\">'values_changed'</span>: <span style=\"font-weight: bold\">{</span>\n",
       "        <span style=\"color: #008000; text-decoration-color: #008000\">\"root['admin']['last_successful_login']\"</span>: <span style=\"font-weight: bold\">{</span>\n",
       "            <span style=\"color: #008000; text-decoration-color: #008000\">'new_value'</span>: <span style=\"color: #008000; text-decoration-color: #008000\">'1640790841'</span>,\n",
       "            <span style=\"color: #008000; text-decoration-color: #008000\">'old_value'</span>: <span style=\"color: #008000; text-decoration-color: #008000\">'1640775452'</span>\n",
       "        <span style=\"font-weight: bold\">}</span>\n",
       "    <span style=\"font-weight: bold\">}</span>,\n",
       "    <span style=\"color: #008000; text-decoration-color: #008000\">'iterable_item_removed'</span>: <span style=\"font-weight: bold\">{</span>\n",
       "        <span style=\"color: #008000; text-decoration-color: #008000\">\"root['admin']['capabilities'][23]\"</span>: <span style=\"color: #008000; text-decoration-color: #008000\">'edit_kvstore'</span>,\n",
       "        <span style=\"color: #008000; text-decoration-color: #008000\">\"root['admin']['capabilities'][28]\"</span>: <span style=\"color: #008000; text-decoration-color: #008000\">'edit_modinput_journald'</span>,\n",
       "        <span style=\"color: #008000; text-decoration-color: #008000\">\"root['admin']['capabilities'][71]\"</span>: <span style=\"color: #008000; text-decoration-color: #008000\">'ite_edit_objects'</span>,\n",
       "        <span style=\"color: #008000; text-decoration-color: #008000\">\"root['admin']['capabilities'][123]\"</span>: <span style=\"color: #008000; text-decoration-color: #008000\">'securegateway_read'</span>,\n",
       "        <span style=\"color: #008000; text-decoration-color: #008000\">\"root['admin']['capabilities'][124]\"</span>: <span style=\"color: #008000; text-decoration-color: #008000\">'securegateway_write'</span>\n",
       "    <span style=\"font-weight: bold\">}</span>\n",
       "<span style=\"font-weight: bold\">}</span>\n",
       "</pre>\n"
      ],
      "text/plain": [
       "\u001b[1m{\u001b[0m\n",
       "    \u001b[32m'dictionary_item_removed'\u001b[0m: \u001b[1m[\u001b[0mroot\u001b[1m[\u001b[0m\u001b[32m'analytics'\u001b[0m\u001b[1m]\u001b[0m, root\u001b[1m[\u001b[0m\u001b[32m'max'\u001b[0m\u001b[1m]\u001b[0m\u001b[1m]\u001b[0m,\n",
       "    \u001b[32m'values_changed'\u001b[0m: \u001b[1m{\u001b[0m\n",
       "        \u001b[32m\"root\u001b[0m\u001b[32m[\u001b[0m\u001b[32m'admin'\u001b[0m\u001b[32m]\u001b[0m\u001b[32m[\u001b[0m\u001b[32m'last_successful_login'\u001b[0m\u001b[32m]\u001b[0m\u001b[32m\"\u001b[0m: \u001b[1m{\u001b[0m\n",
       "            \u001b[32m'new_value'\u001b[0m: \u001b[32m'1640790841'\u001b[0m,\n",
       "            \u001b[32m'old_value'\u001b[0m: \u001b[32m'1640775452'\u001b[0m\n",
       "        \u001b[1m}\u001b[0m\n",
       "    \u001b[1m}\u001b[0m,\n",
       "    \u001b[32m'iterable_item_removed'\u001b[0m: \u001b[1m{\u001b[0m\n",
       "        \u001b[32m\"root\u001b[0m\u001b[32m[\u001b[0m\u001b[32m'admin'\u001b[0m\u001b[32m]\u001b[0m\u001b[32m[\u001b[0m\u001b[32m'capabilities'\u001b[0m\u001b[32m]\u001b[0m\u001b[32m[\u001b[0m\u001b[32m23\u001b[0m\u001b[32m]\u001b[0m\u001b[32m\"\u001b[0m: \u001b[32m'edit_kvstore'\u001b[0m,\n",
       "        \u001b[32m\"root\u001b[0m\u001b[32m[\u001b[0m\u001b[32m'admin'\u001b[0m\u001b[32m]\u001b[0m\u001b[32m[\u001b[0m\u001b[32m'capabilities'\u001b[0m\u001b[32m]\u001b[0m\u001b[32m[\u001b[0m\u001b[32m28\u001b[0m\u001b[32m]\u001b[0m\u001b[32m\"\u001b[0m: \u001b[32m'edit_modinput_journald'\u001b[0m,\n",
       "        \u001b[32m\"root\u001b[0m\u001b[32m[\u001b[0m\u001b[32m'admin'\u001b[0m\u001b[32m]\u001b[0m\u001b[32m[\u001b[0m\u001b[32m'capabilities'\u001b[0m\u001b[32m]\u001b[0m\u001b[32m[\u001b[0m\u001b[32m71\u001b[0m\u001b[32m]\u001b[0m\u001b[32m\"\u001b[0m: \u001b[32m'ite_edit_objects'\u001b[0m,\n",
       "        \u001b[32m\"root\u001b[0m\u001b[32m[\u001b[0m\u001b[32m'admin'\u001b[0m\u001b[32m]\u001b[0m\u001b[32m[\u001b[0m\u001b[32m'capabilities'\u001b[0m\u001b[32m]\u001b[0m\u001b[32m[\u001b[0m\u001b[32m123\u001b[0m\u001b[32m]\u001b[0m\u001b[32m\"\u001b[0m: \u001b[32m'securegateway_read'\u001b[0m,\n",
       "        \u001b[32m\"root\u001b[0m\u001b[32m[\u001b[0m\u001b[32m'admin'\u001b[0m\u001b[32m]\u001b[0m\u001b[32m[\u001b[0m\u001b[32m'capabilities'\u001b[0m\u001b[32m]\u001b[0m\u001b[32m[\u001b[0m\u001b[32m124\u001b[0m\u001b[32m]\u001b[0m\u001b[32m\"\u001b[0m: \u001b[32m'securegateway_write'\u001b[0m\n",
       "    \u001b[1m}\u001b[0m\n",
       "\u001b[1m}\u001b[0m\n"
      ]
     },
     "metadata": {},
     "output_type": "display_data"
    },
    {
     "data": {
      "text/html": [
       "<pre style=\"white-space:pre;overflow-x:auto;line-height:normal;font-family:Menlo,'DejaVu Sans Mono',consolas,'Courier New',monospace\">Users on <span style=\"color: #008000; text-decoration-color: #008000\">'nxtp-onprem'</span> not present on <span style=\"color: #008000; text-decoration-color: #008000\">'{self.dest._name}'</span>:\n",
       "</pre>\n"
      ],
      "text/plain": [
       "Users on \u001b[32m'nxtp-onprem'\u001b[0m not present on \u001b[32m'\u001b[0m\u001b[32m{\u001b[0m\u001b[32mself.dest._name\u001b[0m\u001b[32m}\u001b[0m\u001b[32m'\u001b[0m:\n"
      ]
     },
     "metadata": {},
     "output_type": "display_data"
    },
    {
     "data": {
      "text/html": [
       "<pre style=\"white-space:pre;overflow-x:auto;line-height:normal;font-family:Menlo,'DejaVu Sans Mono',consolas,'Courier New',monospace\"><span style=\"font-weight: bold\">[</span><span style=\"color: #008000; text-decoration-color: #008000\">'analytics'</span>, <span style=\"color: #008000; text-decoration-color: #008000\">'max'</span><span style=\"font-weight: bold\">]</span>\n",
       "</pre>\n"
      ],
      "text/plain": [
       "\u001b[1m[\u001b[0m\u001b[32m'analytics'\u001b[0m, \u001b[32m'max'\u001b[0m\u001b[1m]\u001b[0m\n"
      ]
     },
     "metadata": {},
     "output_type": "display_data"
    }
   ],
   "source": [
    "sync_mg.user_diff()"
   ]
  },
  {
   "cell_type": "code",
   "execution_count": 4,
   "metadata": {},
   "outputs": [],
   "source": [
    "from deepdiff import DeepDiff\n",
    "\n",
    "def user_diff(src, dest):\n",
    "    return DeepDiff(\n",
    "        {user.name: user.content for user in src._spl.users.list()},\n",
    "        {user.name: user.content for user in dest._spl.users.list()},\n",
    "        ignore_order=True,\n",
    "    )"
   ]
  },
  {
   "cell_type": "code",
   "execution_count": 10,
   "metadata": {},
   "outputs": [],
   "source": [
    "from typing import Tuple\n",
    "\n",
    "class DiffConverter:\n",
    "    \"\"\"Logic to execute sync of diff from src to dest.\"\"\"\n",
    "    def __init__(self, diff_gen, sync_actions, src, dest):\n",
    "        self._diff_gen = diff_gen\n",
    "        self._src = src\n",
    "        self._dest = dest\n",
    "        self._sync_actions = sync_actions\n",
    "\n",
    "    def _sync_missing(self, diff):\n",
    "        \"\"\"Sync completely missing entities (i.e. User, Index, ...).\"\"\"\n",
    "        if \"dictionary_item_removed\" in diff:\n",
    "            for item in diff[\"dictionary_item_removed\"]:\n",
    "                self._sync_actions[\"root\"](self._src, self._dest, str(item).split(\"'\")[1])\n",
    "\n",
    "    @staticmethod\n",
    "    def _sanitize_item_path(item) -> Tuple[str, str]:\n",
    "        \"\"\"Remove 'root' and unnecessary brackets aka convert to dot notation.\n",
    "        \n",
    "        Returns entity name and sanitized path as tuple.\n",
    "        \"\"\"\n",
    "        split_path = item.replace(\"root\", \"\").replace(\"][\", \".\").replace(\"[\", \"\").replace(\"]\", \"\").replace(\"'\", \"\").split('.')\n",
    "        return split_path[0], '.'.join(split_path[1:])\n",
    "\n",
    "    def _sync_content(self, diff):\n",
    "        \"\"\"Synchronize all changes between src entity and dest entity.\"\"\"\n",
    "        if \"values_changed\" in diff:\n",
    "            for item_path, value in diff[\"values_changed\"].items():\n",
    "                entity_name, sanitized_path = DiffConverter._sanitize_item_path(str(item_path))\n",
    "                print(f\"'{entity_name}': '{sanitized_path}' -> '{value['new_value']}'\")\n",
    "                try:\n",
    "                    self._sync_actions[sanitized_path](\n",
    "                        self._src, self._dest, entity_name, value[\"new_value\"]\n",
    "                    )\n",
    "                except KeyError:\n",
    "                    print(f\"No action defined for '{sanitized_path}', thus skipping.\")\n",
    "\n",
    "        if \"iterable_item_removed\" in diff:\n",
    "            for item_path, value in diff[\"iterable_item_removed\"].items():\n",
    "                entity_name, sanitized_path = DiffConverter._sanitize_item_path(str(item_path))\n",
    "                sanitized_path = '.'.join(sanitized_path.split('.')[:-1])\n",
    "                print(f\"'{entity_name}': '{sanitized_path}' -> '{value}'\")\n",
    "                try:\n",
    "                    self._sync_actions[sanitized_path](\n",
    "                        self._src, self._dest, entity_name, value\n",
    "                    )\n",
    "                except KeyError:\n",
    "                    print(f\"No action defined for '{sanitized_path}', thus skipping.\")\n",
    "\n",
    "        # TODO add necessary logic for deletion of items on dest\n",
    "\n",
    "    def sync_diff(self):\n",
    "        diff = self._diff_gen(self._src, self._dest)\n",
    "        self._sync_missing(diff)\n",
    "        # if creation is properly implemented,\n",
    "        # new diff will contain everything necessary to create for new user\n",
    "        diff = self._diff_gen(self._src, self._dest)\n",
    "        print(diff)\n",
    "        self._sync_content(diff)\n",
    "\n"
   ]
  },
  {
   "cell_type": "code",
   "execution_count": 16,
   "metadata": {},
   "outputs": [],
   "source": [
    "from spl.connection_adapter import ConnectionAdapter\n",
    "\n",
    "def root_template(src: ConnectionAdapter, dest: ConnectionAdapter, entity_name: str, value: str):\n",
    "    \"\"\"TODO\"\"\"\n",
    "\n",
    "def create_role(src: ConnectionAdapter, dest: ConnectionAdapter, _: str, value: str):\n",
    "    \"\"\"TODO\"\"\"\n",
    "    dest._spl.roles.create(value)\n",
    "\n",
    "def create_user(src, dest: ConnectionAdapter, entity_name):\n",
    "    for user in src._spl.users.list():\n",
    "        if user.name == entity_name:\n",
    "            roles = []\n",
    "            for role in user.role_entities:\n",
    "                roles.append(role.name)\n",
    "                create_role(src, dest, entity_name, role.name)\n",
    "            dest._spl.users.create(entity_name, \"UltraSecretPassword\", roles)\n",
    "\n",
    "def add_user_role(_, dest: ConnectionAdapter, entity_name, role_name):\n",
    "    user = dest._spl.users.get(entity_name)\n",
    "    user.role_entities.append(role_name)\n",
    "    user.update()"
   ]
  },
  {
   "cell_type": "code",
   "execution_count": 17,
   "metadata": {},
   "outputs": [],
   "source": [
    "dc = DiffConverter(user_diff, {\n",
    "    \"root\": create_user,\n",
    "    \"capabilities\": lambda *args, **kwargs: print(f\"Simulate add of capa {args[-1]}\"),\n",
    "    \"perm.read\": lambda *args, **kwargs: print(f\"Simulate add of capa {args[-1]}\")\n",
    "}, src, dest)\n",
    "dc.sync_diff()"
   ]
  },
  {
   "cell_type": "code",
   "execution_count": null,
   "metadata": {},
   "outputs": [],
   "source": []
  },
  {
   "cell_type": "code",
   "execution_count": null,
   "metadata": {},
   "outputs": [],
   "source": []
  },
  {
   "cell_type": "code",
   "execution_count": null,
   "metadata": {},
   "outputs": [],
   "source": []
  },
  {
   "cell_type": "code",
   "execution_count": 16,
   "metadata": {},
   "outputs": [
    {
     "data": {
      "text/html": [
       "<pre style=\"white-space:pre;overflow-x:auto;line-height:normal;font-family:Menlo,'DejaVu Sans Mono',consolas,'Courier New',monospace\">- _audit\n",
       "</pre>\n"
      ],
      "text/plain": [
       "- _audit\n"
      ]
     },
     "metadata": {},
     "output_type": "display_data"
    },
    {
     "data": {
      "text/html": [
       "<pre style=\"white-space:pre;overflow-x:auto;line-height:normal;font-family:Menlo,'DejaVu Sans Mono',consolas,'Courier New',monospace\">- _internal\n",
       "</pre>\n"
      ],
      "text/plain": [
       "- _internal\n"
      ]
     },
     "metadata": {},
     "output_type": "display_data"
    },
    {
     "data": {
      "text/html": [
       "<pre style=\"white-space:pre;overflow-x:auto;line-height:normal;font-family:Menlo,'DejaVu Sans Mono',consolas,'Courier New',monospace\">- _introspection\n",
       "</pre>\n"
      ],
      "text/plain": [
       "- _introspection\n"
      ]
     },
     "metadata": {},
     "output_type": "display_data"
    },
    {
     "data": {
      "text/html": [
       "<pre style=\"white-space:pre;overflow-x:auto;line-height:normal;font-family:Menlo,'DejaVu Sans Mono',consolas,'Courier New',monospace\">- _telemetry\n",
       "</pre>\n"
      ],
      "text/plain": [
       "- _telemetry\n"
      ]
     },
     "metadata": {},
     "output_type": "display_data"
    },
    {
     "data": {
      "text/html": [
       "<pre style=\"white-space:pre;overflow-x:auto;line-height:normal;font-family:Menlo,'DejaVu Sans Mono',consolas,'Courier New',monospace\">- _thefishbucket\n",
       "</pre>\n"
      ],
      "text/plain": [
       "- _thefishbucket\n"
      ]
     },
     "metadata": {},
     "output_type": "display_data"
    },
    {
     "data": {
      "text/html": [
       "<pre style=\"white-space:pre;overflow-x:auto;line-height:normal;font-family:Menlo,'DejaVu Sans Mono',consolas,'Courier New',monospace\">- aks_logs\n",
       "</pre>\n"
      ],
      "text/plain": [
       "- aks_logs\n"
      ]
     },
     "metadata": {},
     "output_type": "display_data"
    },
    {
     "data": {
      "text/html": [
       "<pre style=\"white-space:pre;overflow-x:auto;line-height:normal;font-family:Menlo,'DejaVu Sans Mono',consolas,'Courier New',monospace\">- aks_objects\n",
       "</pre>\n"
      ],
      "text/plain": [
       "- aks_objects\n"
      ]
     },
     "metadata": {},
     "output_type": "display_data"
    },
    {
     "data": {
      "text/html": [
       "<pre style=\"white-space:pre;overflow-x:auto;line-height:normal;font-family:Menlo,'DejaVu Sans Mono',consolas,'Courier New',monospace\">- auditlog\n",
       "</pre>\n"
      ],
      "text/plain": [
       "- auditlog\n"
      ]
     },
     "metadata": {},
     "output_type": "display_data"
    },
    {
     "data": {
      "text/html": [
       "<pre style=\"white-space:pre;overflow-x:auto;line-height:normal;font-family:Menlo,'DejaVu Sans Mono',consolas,'Courier New',monospace\">- azure\n",
       "</pre>\n"
      ],
      "text/plain": [
       "- azure\n"
      ]
     },
     "metadata": {},
     "output_type": "display_data"
    },
    {
     "data": {
      "text/html": [
       "<pre style=\"white-space:pre;overflow-x:auto;line-height:normal;font-family:Menlo,'DejaVu Sans Mono',consolas,'Courier New',monospace\">- azure_security\n",
       "</pre>\n"
      ],
      "text/plain": [
       "- azure_security\n"
      ]
     },
     "metadata": {},
     "output_type": "display_data"
    },
    {
     "data": {
      "text/html": [
       "<pre style=\"white-space:pre;overflow-x:auto;line-height:normal;font-family:Menlo,'DejaVu Sans Mono',consolas,'Courier New',monospace\">- cim_modactions\n",
       "</pre>\n"
      ],
      "text/plain": [
       "- cim_modactions\n"
      ]
     },
     "metadata": {},
     "output_type": "display_data"
    },
    {
     "data": {
      "text/html": [
       "<pre style=\"white-space:pre;overflow-x:auto;line-height:normal;font-family:Menlo,'DejaVu Sans Mono',consolas,'Courier New',monospace\">- em_meta\n",
       "</pre>\n"
      ],
      "text/plain": [
       "- em_meta\n"
      ]
     },
     "metadata": {},
     "output_type": "display_data"
    },
    {
     "data": {
      "text/html": [
       "<pre style=\"white-space:pre;overflow-x:auto;line-height:normal;font-family:Menlo,'DejaVu Sans Mono',consolas,'Courier New',monospace\">- firedalerts\n",
       "</pre>\n"
      ],
      "text/plain": [
       "- firedalerts\n"
      ]
     },
     "metadata": {},
     "output_type": "display_data"
    },
    {
     "data": {
      "text/html": [
       "<pre style=\"white-space:pre;overflow-x:auto;line-height:normal;font-family:Menlo,'DejaVu Sans Mono',consolas,'Courier New',monospace\">- guardia-app\n",
       "</pre>\n"
      ],
      "text/plain": [
       "- guardia-app\n"
      ]
     },
     "metadata": {},
     "output_type": "display_data"
    },
    {
     "data": {
      "text/html": [
       "<pre style=\"white-space:pre;overflow-x:auto;line-height:normal;font-family:Menlo,'DejaVu Sans Mono',consolas,'Courier New',monospace\">- guardia-os\n",
       "</pre>\n"
      ],
      "text/plain": [
       "- guardia-os\n"
      ]
     },
     "metadata": {},
     "output_type": "display_data"
    },
    {
     "data": {
      "text/html": [
       "<pre style=\"white-space:pre;overflow-x:auto;line-height:normal;font-family:Menlo,'DejaVu Sans Mono',consolas,'Courier New',monospace\">- history\n",
       "</pre>\n"
      ],
      "text/plain": [
       "- history\n"
      ]
     },
     "metadata": {},
     "output_type": "display_data"
    },
    {
     "data": {
      "text/html": [
       "<pre style=\"white-space:pre;overflow-x:auto;line-height:normal;font-family:Menlo,'DejaVu Sans Mono',consolas,'Courier New',monospace\">- infra_alerts\n",
       "</pre>\n"
      ],
      "text/plain": [
       "- infra_alerts\n"
      ]
     },
     "metadata": {},
     "output_type": "display_data"
    },
    {
     "data": {
      "text/html": [
       "<pre style=\"white-space:pre;overflow-x:auto;line-height:normal;font-family:Menlo,'DejaVu Sans Mono',consolas,'Courier New',monospace\">- mail\n",
       "</pre>\n"
      ],
      "text/plain": [
       "- mail\n"
      ]
     },
     "metadata": {},
     "output_type": "display_data"
    },
    {
     "data": {
      "text/html": [
       "<pre style=\"white-space:pre;overflow-x:auto;line-height:normal;font-family:Menlo,'DejaVu Sans Mono',consolas,'Courier New',monospace\">- main\n",
       "</pre>\n"
      ],
      "text/plain": [
       "- main\n"
      ]
     },
     "metadata": {},
     "output_type": "display_data"
    },
    {
     "data": {
      "text/html": [
       "<pre style=\"white-space:pre;overflow-x:auto;line-height:normal;font-family:Menlo,'DejaVu Sans Mono',consolas,'Courier New',monospace\">- o365\n",
       "</pre>\n"
      ],
      "text/plain": [
       "- o365\n"
      ]
     },
     "metadata": {},
     "output_type": "display_data"
    },
    {
     "data": {
      "text/html": [
       "<pre style=\"white-space:pre;overflow-x:auto;line-height:normal;font-family:Menlo,'DejaVu Sans Mono',consolas,'Courier New',monospace\">- os_unix\n",
       "</pre>\n"
      ],
      "text/plain": [
       "- os_unix\n"
      ]
     },
     "metadata": {},
     "output_type": "display_data"
    },
    {
     "data": {
      "text/html": [
       "<pre style=\"white-space:pre;overflow-x:auto;line-height:normal;font-family:Menlo,'DejaVu Sans Mono',consolas,'Courier New',monospace\">- splunklogger\n",
       "</pre>\n"
      ],
      "text/plain": [
       "- splunklogger\n"
      ]
     },
     "metadata": {},
     "output_type": "display_data"
    },
    {
     "data": {
      "text/html": [
       "<pre style=\"white-space:pre;overflow-x:auto;line-height:normal;font-family:Menlo,'DejaVu Sans Mono',consolas,'Courier New',monospace\">- summary\n",
       "</pre>\n"
      ],
      "text/plain": [
       "- summary\n"
      ]
     },
     "metadata": {},
     "output_type": "display_data"
    }
   ],
   "source": [
    "spl._src.indexes()"
   ]
  },
  {
   "cell_type": "code",
   "execution_count": null,
   "metadata": {},
   "outputs": [],
   "source": []
  }
 ],
 "metadata": {
  "interpreter": {
   "hash": "be0b4189f1caea64c345304839a7c7c1f65cab58510c8cbdea5b6109934c1c02"
  },
  "kernelspec": {
   "display_name": "Python 3.9.9 64-bit ('.venv': poetry)",
   "language": "python",
   "name": "python3"
  },
  "language_info": {
   "codemirror_mode": {
    "name": "ipython",
    "version": 3
   },
   "file_extension": ".py",
   "mimetype": "text/x-python",
   "name": "python",
   "nbconvert_exporter": "python",
   "pygments_lexer": "ipython3",
   "version": "3.9.9"
  },
  "orig_nbformat": 4
 },
 "nbformat": 4,
 "nbformat_minor": 2
}
